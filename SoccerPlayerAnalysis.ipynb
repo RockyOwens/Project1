{
 "cells": [
  {
   "cell_type": "code",
   "execution_count": 1,
   "metadata": {},
   "outputs": [],
   "source": [
    "# Import dependencies\n",
    "import pandas as pd\n",
    "import numpy as np\n",
    "import matplotlib.pyplot as plt\n"
   ]
  },
  {
   "cell_type": "code",
   "execution_count": 4,
   "metadata": {},
   "outputs": [],
   "source": [
    "# File to import\n",
    "soccer_data_to_load = \"resources/transfermarkt_fbref_201718.csv\""
   ]
  },
  {
   "cell_type": "code",
   "execution_count": 7,
   "metadata": {},
   "outputs": [],
   "source": [
    "# Read file and store into pandas dataframes\n",
    "soccer_data = pd.read_csv(soccer_data_to_load, sep=\";\")\n"
   ]
  },
  {
   "cell_type": "code",
   "execution_count": 21,
   "metadata": {},
   "outputs": [
    {
     "data": {
      "text/plain": [
       "2232"
      ]
     },
     "execution_count": 21,
     "metadata": {},
     "output_type": "execute_result"
    }
   ],
   "source": [
    "# Display data\n",
    "soccer_data.shape[0]\n"
   ]
  },
  {
   "cell_type": "code",
   "execution_count": 13,
   "metadata": {},
   "outputs": [
    {
     "data": {
      "text/html": [
       "<div>\n",
       "<style scoped>\n",
       "    .dataframe tbody tr th:only-of-type {\n",
       "        vertical-align: middle;\n",
       "    }\n",
       "\n",
       "    .dataframe tbody tr th {\n",
       "        vertical-align: top;\n",
       "    }\n",
       "\n",
       "    .dataframe thead th {\n",
       "        text-align: right;\n",
       "    }\n",
       "</style>\n",
       "<table border=\"1\" class=\"dataframe\">\n",
       "  <thead>\n",
       "    <tr style=\"text-align: right;\">\n",
       "      <th></th>\n",
       "      <th>Unnamed: 0</th>\n",
       "      <th>player</th>\n",
       "      <th>nationality</th>\n",
       "      <th>position</th>\n",
       "      <th>squad</th>\n",
       "      <th>age</th>\n",
       "      <th>birth_year</th>\n",
       "      <th>value</th>\n",
       "      <th>height</th>\n",
       "      <th>position2</th>\n",
       "      <th>...</th>\n",
       "      <th>Pts/G</th>\n",
       "      <th>xG</th>\n",
       "      <th>xGA</th>\n",
       "      <th>xGDiff</th>\n",
       "      <th>xGDiff/90</th>\n",
       "      <th>Attendance</th>\n",
       "      <th>CL</th>\n",
       "      <th>WinCL</th>\n",
       "      <th>CLBestScorer</th>\n",
       "      <th>Season</th>\n",
       "    </tr>\n",
       "  </thead>\n",
       "  <tbody>\n",
       "    <tr>\n",
       "      <th>0</th>\n",
       "      <td>379</td>\n",
       "      <td>Burgui</td>\n",
       "      <td>es ESP</td>\n",
       "      <td>FW,MF</td>\n",
       "      <td>Alavés</td>\n",
       "      <td>23</td>\n",
       "      <td>1993</td>\n",
       "      <td>1800000</td>\n",
       "      <td>186</td>\n",
       "      <td>attack - Left Winger</td>\n",
       "      <td>...</td>\n",
       "      <td>1.24</td>\n",
       "      <td>39.0</td>\n",
       "      <td>53.2</td>\n",
       "      <td>-14.2</td>\n",
       "      <td>-0.37</td>\n",
       "      <td>16,819</td>\n",
       "      <td>0</td>\n",
       "      <td>0</td>\n",
       "      <td>0</td>\n",
       "      <td>201718#</td>\n",
       "    </tr>\n",
       "    <tr>\n",
       "      <th>1</th>\n",
       "      <td>2530</td>\n",
       "      <td>Raphaël Varane</td>\n",
       "      <td>fr FRA</td>\n",
       "      <td>DF</td>\n",
       "      <td>Real Madrid</td>\n",
       "      <td>24</td>\n",
       "      <td>1993</td>\n",
       "      <td>70000000</td>\n",
       "      <td>191</td>\n",
       "      <td>Defender - Centre-Back</td>\n",
       "      <td>...</td>\n",
       "      <td>2.00</td>\n",
       "      <td>83.3</td>\n",
       "      <td>45.4</td>\n",
       "      <td>37.9</td>\n",
       "      <td>1.00</td>\n",
       "      <td>66161</td>\n",
       "      <td>1</td>\n",
       "      <td>1</td>\n",
       "      <td>0</td>\n",
       "      <td>201718#</td>\n",
       "    </tr>\n",
       "    <tr>\n",
       "      <th>2</th>\n",
       "      <td>721</td>\n",
       "      <td>Rubén Duarte</td>\n",
       "      <td>es ESP</td>\n",
       "      <td>DF</td>\n",
       "      <td>Alavés</td>\n",
       "      <td>21</td>\n",
       "      <td>1995</td>\n",
       "      <td>2000000</td>\n",
       "      <td>179</td>\n",
       "      <td>Defender - Left-Back</td>\n",
       "      <td>...</td>\n",
       "      <td>1.24</td>\n",
       "      <td>39.0</td>\n",
       "      <td>53.2</td>\n",
       "      <td>-14.2</td>\n",
       "      <td>-0.37</td>\n",
       "      <td>16,819</td>\n",
       "      <td>0</td>\n",
       "      <td>0</td>\n",
       "      <td>0</td>\n",
       "      <td>201718#</td>\n",
       "    </tr>\n",
       "    <tr>\n",
       "      <th>3</th>\n",
       "      <td>2512</td>\n",
       "      <td>Samuel Umtiti</td>\n",
       "      <td>fr FRA</td>\n",
       "      <td>DF</td>\n",
       "      <td>Barcelona</td>\n",
       "      <td>23</td>\n",
       "      <td>1993</td>\n",
       "      <td>60000000</td>\n",
       "      <td>182</td>\n",
       "      <td>Defender - Centre-Back</td>\n",
       "      <td>...</td>\n",
       "      <td>2.45</td>\n",
       "      <td>78.3</td>\n",
       "      <td>41.1</td>\n",
       "      <td>37.2</td>\n",
       "      <td>0.98</td>\n",
       "      <td>66603</td>\n",
       "      <td>1</td>\n",
       "      <td>0</td>\n",
       "      <td>0</td>\n",
       "      <td>201718#</td>\n",
       "    </tr>\n",
       "    <tr>\n",
       "      <th>4</th>\n",
       "      <td>882</td>\n",
       "      <td>Manu García</td>\n",
       "      <td>es ESP</td>\n",
       "      <td>MF</td>\n",
       "      <td>Alavés</td>\n",
       "      <td>31</td>\n",
       "      <td>1986</td>\n",
       "      <td>1800000</td>\n",
       "      <td>183</td>\n",
       "      <td>midfield - Defensive Midfield</td>\n",
       "      <td>...</td>\n",
       "      <td>1.24</td>\n",
       "      <td>39.0</td>\n",
       "      <td>53.2</td>\n",
       "      <td>-14.2</td>\n",
       "      <td>-0.37</td>\n",
       "      <td>16,819</td>\n",
       "      <td>0</td>\n",
       "      <td>0</td>\n",
       "      <td>0</td>\n",
       "      <td>201718#</td>\n",
       "    </tr>\n",
       "  </tbody>\n",
       "</table>\n",
       "<p>5 rows × 400 columns</p>\n",
       "</div>"
      ],
      "text/plain": [
       "   Unnamed: 0          player nationality position        squad  age  \\\n",
       "0         379          Burgui      es ESP    FW,MF       Alavés   23   \n",
       "1        2530  Raphaël Varane      fr FRA       DF  Real Madrid   24   \n",
       "2         721    Rubén Duarte      es ESP       DF       Alavés   21   \n",
       "3        2512   Samuel Umtiti      fr FRA       DF    Barcelona   23   \n",
       "4         882     Manu García      es ESP       MF       Alavés   31   \n",
       "\n",
       "   birth_year     value  height                      position2  ... Pts/G  \\\n",
       "0        1993   1800000     186           attack - Left Winger  ...  1.24   \n",
       "1        1993  70000000     191         Defender - Centre-Back  ...  2.00   \n",
       "2        1995   2000000     179           Defender - Left-Back  ...  1.24   \n",
       "3        1993  60000000     182         Defender - Centre-Back  ...  2.45   \n",
       "4        1986   1800000     183  midfield - Defensive Midfield  ...  1.24   \n",
       "\n",
       "     xG   xGA  xGDiff  xGDiff/90  Attendance  CL  WinCL  CLBestScorer   Season  \n",
       "0  39.0  53.2   -14.2      -0.37      16,819   0      0             0  201718#  \n",
       "1  83.3  45.4    37.9       1.00       66161   1      1             0  201718#  \n",
       "2  39.0  53.2   -14.2      -0.37      16,819   0      0             0  201718#  \n",
       "3  78.3  41.1    37.2       0.98       66603   1      0             0  201718#  \n",
       "4  39.0  53.2   -14.2      -0.37      16,819   0      0             0  201718#  \n",
       "\n",
       "[5 rows x 400 columns]"
      ]
     },
     "execution_count": 13,
     "metadata": {},
     "output_type": "execute_result"
    }
   ],
   "source": [
    "soccer_data.head()\n"
   ]
  },
  {
   "cell_type": "code",
   "execution_count": 20,
   "metadata": {},
   "outputs": [
    {
     "name": "stdout",
     "output_type": "stream",
     "text": [
      "number of players in the analysis is: 2118\n"
     ]
    }
   ],
   "source": [
    "# Count the total number of players\n",
    "total_players = len(soccer_data['player'].unique())\n",
    "print(f'number of players in the analysis is: {total_players}')"
   ]
  },
  {
   "cell_type": "code",
   "execution_count": null,
   "metadata": {},
   "outputs": [],
   "source": [
    "# Count number of duplicate players\n",
    "duplicate_total_players = soccer_data[soccer_data.duplicated([\"player\"],keep=\"first\")].unique()\n"
   ]
  },
  {
   "cell_type": "code",
   "execution_count": null,
   "metadata": {},
   "outputs": [],
   "source": [
    "# Determine which nationality has the most players included in the analysis\n",
    "nationality = soccer_data.groupby[(\"nationality\")].sum()[\"player\"]\n",
    "\n"
   ]
  },
  {
   "cell_type": "code",
   "execution_count": null,
   "metadata": {},
   "outputs": [],
   "source": [
    "# Determine which position plays the most minutes\n"
   ]
  },
  {
   "cell_type": "code",
   "execution_count": null,
   "metadata": {},
   "outputs": [],
   "source": [
    "# Determine which age has the highest value\n"
   ]
  },
  {
   "cell_type": "code",
   "execution_count": null,
   "metadata": {},
   "outputs": [],
   "source": [
    "# Determine which position has the most red cards\n"
   ]
  },
  {
   "cell_type": "code",
   "execution_count": null,
   "metadata": {},
   "outputs": [],
   "source": [
    "# Determine which league has the most valuable players\n"
   ]
  },
  {
   "cell_type": "code",
   "execution_count": null,
   "metadata": {},
   "outputs": [],
   "source": [
    "# Determine the average player age\n"
   ]
  },
  {
   "cell_type": "code",
   "execution_count": null,
   "metadata": {},
   "outputs": [],
   "source": [
    "# Determine which position has the tallest players"
   ]
  }
 ],
 "metadata": {
  "kernelspec": {
   "display_name": "base",
   "language": "python",
   "name": "python3"
  },
  "language_info": {
   "codemirror_mode": {
    "name": "ipython",
    "version": 3
   },
   "file_extension": ".py",
   "mimetype": "text/x-python",
   "name": "python",
   "nbconvert_exporter": "python",
   "pygments_lexer": "ipython3",
   "version": "3.9.13"
  },
  "orig_nbformat": 4,
  "vscode": {
   "interpreter": {
    "hash": "eb882ed8c848f19c90fcc85379b3fbc89a66895657e7761325dfc0ccc5dd370c"
   }
  }
 },
 "nbformat": 4,
 "nbformat_minor": 2
}
