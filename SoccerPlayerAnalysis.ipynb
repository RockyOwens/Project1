{
 "cells": [
  {
   "cell_type": "code",
   "execution_count": 4,
   "metadata": {},
   "outputs": [],
   "source": [
    "# Import dependencies\n",
    "import pandas as pd\n",
    "import numpy as np\n",
    "import matplotlib.pyplot as plt\n"
   ]
  },
  {
   "cell_type": "code",
   "execution_count": 5,
   "metadata": {},
   "outputs": [],
   "source": [
    "# File to import\n",
    "soccer_data_to_load = \"resources/transfermarkt_fbref_201718.csv\""
   ]
  },
  {
   "cell_type": "code",
   "execution_count": 6,
   "metadata": {},
   "outputs": [],
   "source": [
    "# Read file and store into pandas dataframes\n",
    "soccer_data = pd.read_csv(soccer_data_to_load, sep=\";\")\n"
   ]
  },
  {
   "cell_type": "code",
   "execution_count": 7,
   "metadata": {},
   "outputs": [
    {
     "data": {
      "text/plain": [
       "2232"
      ]
     },
     "execution_count": 7,
     "metadata": {},
     "output_type": "execute_result"
    }
   ],
   "source": [
    "# Display data\n",
    "soccer_data.shape[0]\n"
   ]
  },
  {
   "cell_type": "code",
   "execution_count": 8,
   "metadata": {},
   "outputs": [
    {
     "data": {
      "text/html": [
       "<div>\n",
       "<style scoped>\n",
       "    .dataframe tbody tr th:only-of-type {\n",
       "        vertical-align: middle;\n",
       "    }\n",
       "\n",
       "    .dataframe tbody tr th {\n",
       "        vertical-align: top;\n",
       "    }\n",
       "\n",
       "    .dataframe thead th {\n",
       "        text-align: right;\n",
       "    }\n",
       "</style>\n",
       "<table border=\"1\" class=\"dataframe\">\n",
       "  <thead>\n",
       "    <tr style=\"text-align: right;\">\n",
       "      <th></th>\n",
       "      <th>Unnamed: 0</th>\n",
       "      <th>player</th>\n",
       "      <th>nationality</th>\n",
       "      <th>position</th>\n",
       "      <th>squad</th>\n",
       "      <th>age</th>\n",
       "      <th>birth_year</th>\n",
       "      <th>value</th>\n",
       "      <th>height</th>\n",
       "      <th>position2</th>\n",
       "      <th>...</th>\n",
       "      <th>Pts/G</th>\n",
       "      <th>xG</th>\n",
       "      <th>xGA</th>\n",
       "      <th>xGDiff</th>\n",
       "      <th>xGDiff/90</th>\n",
       "      <th>Attendance</th>\n",
       "      <th>CL</th>\n",
       "      <th>WinCL</th>\n",
       "      <th>CLBestScorer</th>\n",
       "      <th>Season</th>\n",
       "    </tr>\n",
       "  </thead>\n",
       "  <tbody>\n",
       "    <tr>\n",
       "      <th>0</th>\n",
       "      <td>379</td>\n",
       "      <td>Burgui</td>\n",
       "      <td>es ESP</td>\n",
       "      <td>FW,MF</td>\n",
       "      <td>Alavés</td>\n",
       "      <td>23</td>\n",
       "      <td>1993</td>\n",
       "      <td>1800000</td>\n",
       "      <td>186</td>\n",
       "      <td>attack - Left Winger</td>\n",
       "      <td>...</td>\n",
       "      <td>1.24</td>\n",
       "      <td>39.0</td>\n",
       "      <td>53.2</td>\n",
       "      <td>-14.2</td>\n",
       "      <td>-0.37</td>\n",
       "      <td>16,819</td>\n",
       "      <td>0</td>\n",
       "      <td>0</td>\n",
       "      <td>0</td>\n",
       "      <td>201718#</td>\n",
       "    </tr>\n",
       "    <tr>\n",
       "      <th>1</th>\n",
       "      <td>2530</td>\n",
       "      <td>Raphaël Varane</td>\n",
       "      <td>fr FRA</td>\n",
       "      <td>DF</td>\n",
       "      <td>Real Madrid</td>\n",
       "      <td>24</td>\n",
       "      <td>1993</td>\n",
       "      <td>70000000</td>\n",
       "      <td>191</td>\n",
       "      <td>Defender - Centre-Back</td>\n",
       "      <td>...</td>\n",
       "      <td>2.00</td>\n",
       "      <td>83.3</td>\n",
       "      <td>45.4</td>\n",
       "      <td>37.9</td>\n",
       "      <td>1.00</td>\n",
       "      <td>66161</td>\n",
       "      <td>1</td>\n",
       "      <td>1</td>\n",
       "      <td>0</td>\n",
       "      <td>201718#</td>\n",
       "    </tr>\n",
       "    <tr>\n",
       "      <th>2</th>\n",
       "      <td>721</td>\n",
       "      <td>Rubén Duarte</td>\n",
       "      <td>es ESP</td>\n",
       "      <td>DF</td>\n",
       "      <td>Alavés</td>\n",
       "      <td>21</td>\n",
       "      <td>1995</td>\n",
       "      <td>2000000</td>\n",
       "      <td>179</td>\n",
       "      <td>Defender - Left-Back</td>\n",
       "      <td>...</td>\n",
       "      <td>1.24</td>\n",
       "      <td>39.0</td>\n",
       "      <td>53.2</td>\n",
       "      <td>-14.2</td>\n",
       "      <td>-0.37</td>\n",
       "      <td>16,819</td>\n",
       "      <td>0</td>\n",
       "      <td>0</td>\n",
       "      <td>0</td>\n",
       "      <td>201718#</td>\n",
       "    </tr>\n",
       "    <tr>\n",
       "      <th>3</th>\n",
       "      <td>2512</td>\n",
       "      <td>Samuel Umtiti</td>\n",
       "      <td>fr FRA</td>\n",
       "      <td>DF</td>\n",
       "      <td>Barcelona</td>\n",
       "      <td>23</td>\n",
       "      <td>1993</td>\n",
       "      <td>60000000</td>\n",
       "      <td>182</td>\n",
       "      <td>Defender - Centre-Back</td>\n",
       "      <td>...</td>\n",
       "      <td>2.45</td>\n",
       "      <td>78.3</td>\n",
       "      <td>41.1</td>\n",
       "      <td>37.2</td>\n",
       "      <td>0.98</td>\n",
       "      <td>66603</td>\n",
       "      <td>1</td>\n",
       "      <td>0</td>\n",
       "      <td>0</td>\n",
       "      <td>201718#</td>\n",
       "    </tr>\n",
       "    <tr>\n",
       "      <th>4</th>\n",
       "      <td>882</td>\n",
       "      <td>Manu García</td>\n",
       "      <td>es ESP</td>\n",
       "      <td>MF</td>\n",
       "      <td>Alavés</td>\n",
       "      <td>31</td>\n",
       "      <td>1986</td>\n",
       "      <td>1800000</td>\n",
       "      <td>183</td>\n",
       "      <td>midfield - Defensive Midfield</td>\n",
       "      <td>...</td>\n",
       "      <td>1.24</td>\n",
       "      <td>39.0</td>\n",
       "      <td>53.2</td>\n",
       "      <td>-14.2</td>\n",
       "      <td>-0.37</td>\n",
       "      <td>16,819</td>\n",
       "      <td>0</td>\n",
       "      <td>0</td>\n",
       "      <td>0</td>\n",
       "      <td>201718#</td>\n",
       "    </tr>\n",
       "  </tbody>\n",
       "</table>\n",
       "<p>5 rows × 400 columns</p>\n",
       "</div>"
      ],
      "text/plain": [
       "   Unnamed: 0          player nationality position        squad  age  \\\n",
       "0         379          Burgui      es ESP    FW,MF       Alavés   23   \n",
       "1        2530  Raphaël Varane      fr FRA       DF  Real Madrid   24   \n",
       "2         721    Rubén Duarte      es ESP       DF       Alavés   21   \n",
       "3        2512   Samuel Umtiti      fr FRA       DF    Barcelona   23   \n",
       "4         882     Manu García      es ESP       MF       Alavés   31   \n",
       "\n",
       "   birth_year     value  height                      position2  ... Pts/G  \\\n",
       "0        1993   1800000     186           attack - Left Winger  ...  1.24   \n",
       "1        1993  70000000     191         Defender - Centre-Back  ...  2.00   \n",
       "2        1995   2000000     179           Defender - Left-Back  ...  1.24   \n",
       "3        1993  60000000     182         Defender - Centre-Back  ...  2.45   \n",
       "4        1986   1800000     183  midfield - Defensive Midfield  ...  1.24   \n",
       "\n",
       "     xG   xGA  xGDiff  xGDiff/90  Attendance  CL  WinCL  CLBestScorer   Season  \n",
       "0  39.0  53.2   -14.2      -0.37      16,819   0      0             0  201718#  \n",
       "1  83.3  45.4    37.9       1.00       66161   1      1             0  201718#  \n",
       "2  39.0  53.2   -14.2      -0.37      16,819   0      0             0  201718#  \n",
       "3  78.3  41.1    37.2       0.98       66603   1      0             0  201718#  \n",
       "4  39.0  53.2   -14.2      -0.37      16,819   0      0             0  201718#  \n",
       "\n",
       "[5 rows x 400 columns]"
      ]
     },
     "execution_count": 8,
     "metadata": {},
     "output_type": "execute_result"
    }
   ],
   "source": [
    "soccer_data.head()\n"
   ]
  },
  {
   "cell_type": "code",
   "execution_count": 9,
   "metadata": {},
   "outputs": [
    {
     "name": "stdout",
     "output_type": "stream",
     "text": [
      "number of players in the analysis is: 2118\n"
     ]
    }
   ],
   "source": [
    "# Count the total number of players\n",
    "total_players = len(soccer_data['player'].unique())\n",
    "print(f'number of players in the analysis is: {total_players}')"
   ]
  },
  {
   "attachments": {},
   "cell_type": "markdown",
   "metadata": {},
   "source": [
    "Fix the code below\n",
    "# Count number of duplicate players"
   ]
  },
  {
   "cell_type": "code",
   "execution_count": 22,
   "metadata": {},
   "outputs": [
    {
     "ename": "AttributeError",
     "evalue": "'DataFrame' object has no attribute 'unique'",
     "output_type": "error",
     "traceback": [
      "\u001b[1;31m---------------------------------------------------------------------------\u001b[0m",
      "\u001b[1;31mAttributeError\u001b[0m                            Traceback (most recent call last)",
      "\u001b[1;32m~\\AppData\\Local\\Temp\\ipykernel_18556\\3991947464.py\u001b[0m in \u001b[0;36m<module>\u001b[1;34m\u001b[0m\n\u001b[0;32m      1\u001b[0m \u001b[1;31m# Count number of duplicate players\u001b[0m\u001b[1;33m\u001b[0m\u001b[1;33m\u001b[0m\u001b[0m\n\u001b[1;32m----> 2\u001b[1;33m \u001b[0mduplicate_total_players\u001b[0m \u001b[1;33m=\u001b[0m \u001b[0msoccer_data\u001b[0m\u001b[1;33m[\u001b[0m\u001b[0msoccer_data\u001b[0m\u001b[1;33m.\u001b[0m\u001b[0mduplicated\u001b[0m\u001b[1;33m(\u001b[0m\u001b[1;33m[\u001b[0m\u001b[1;34m\"player\"\u001b[0m\u001b[1;33m]\u001b[0m\u001b[1;33m,\u001b[0m\u001b[0mkeep\u001b[0m\u001b[1;33m=\u001b[0m\u001b[1;34m\"first\"\u001b[0m\u001b[1;33m)\u001b[0m\u001b[1;33m]\u001b[0m\u001b[1;33m.\u001b[0m\u001b[0munique\u001b[0m\u001b[1;33m(\u001b[0m\u001b[1;33m)\u001b[0m\u001b[1;33m\u001b[0m\u001b[1;33m\u001b[0m\u001b[0m\n\u001b[0m",
      "\u001b[1;32mc:\\Users\\proga\\anaconda3\\lib\\site-packages\\pandas\\core\\generic.py\u001b[0m in \u001b[0;36m__getattr__\u001b[1;34m(self, name)\u001b[0m\n\u001b[0;32m   5573\u001b[0m         ):\n\u001b[0;32m   5574\u001b[0m             \u001b[1;32mreturn\u001b[0m \u001b[0mself\u001b[0m\u001b[1;33m[\u001b[0m\u001b[0mname\u001b[0m\u001b[1;33m]\u001b[0m\u001b[1;33m\u001b[0m\u001b[1;33m\u001b[0m\u001b[0m\n\u001b[1;32m-> 5575\u001b[1;33m         \u001b[1;32mreturn\u001b[0m \u001b[0mobject\u001b[0m\u001b[1;33m.\u001b[0m\u001b[0m__getattribute__\u001b[0m\u001b[1;33m(\u001b[0m\u001b[0mself\u001b[0m\u001b[1;33m,\u001b[0m \u001b[0mname\u001b[0m\u001b[1;33m)\u001b[0m\u001b[1;33m\u001b[0m\u001b[1;33m\u001b[0m\u001b[0m\n\u001b[0m\u001b[0;32m   5576\u001b[0m \u001b[1;33m\u001b[0m\u001b[0m\n\u001b[0;32m   5577\u001b[0m     \u001b[1;32mdef\u001b[0m \u001b[0m__setattr__\u001b[0m\u001b[1;33m(\u001b[0m\u001b[0mself\u001b[0m\u001b[1;33m,\u001b[0m \u001b[0mname\u001b[0m\u001b[1;33m:\u001b[0m \u001b[0mstr\u001b[0m\u001b[1;33m,\u001b[0m \u001b[0mvalue\u001b[0m\u001b[1;33m)\u001b[0m \u001b[1;33m->\u001b[0m \u001b[1;32mNone\u001b[0m\u001b[1;33m:\u001b[0m\u001b[1;33m\u001b[0m\u001b[1;33m\u001b[0m\u001b[0m\n",
      "\u001b[1;31mAttributeError\u001b[0m: 'DataFrame' object has no attribute 'unique'"
     ]
    }
   ],
   "source": [
    "# Count number of duplicate players\n",
    "duplicate_total_players = soccer_data[soccer_data.duplicated([\"player\"],keep=\"first\")].unique()"
   ]
  },
  {
   "cell_type": "code",
   "execution_count": 11,
   "metadata": {},
   "outputs": [
    {
     "data": {
      "text/plain": [
       "nationality\n",
       "es ESP     325\n",
       "fr FRA     281\n",
       "it ITA     265\n",
       "de GER     199\n",
       "eng ENG    176\n",
       "          ... \n",
       "mr MTN       1\n",
       "ee EST       1\n",
       "is ISL       1\n",
       "mz MOZ       1\n",
       "0            1\n",
       "Name: player, Length: 99, dtype: int64"
      ]
     },
     "execution_count": 11,
     "metadata": {},
     "output_type": "execute_result"
    }
   ],
   "source": [
    "# Determine which nationality has the most players included in the analysis\n",
    "nationality_count = soccer_data.groupby(['nationality']).count()['player']\n",
    "nationality_count = nationality_count.sort_values(ascending=False)\n",
    "nationality_count\n",
    "\n",
    "\n"
   ]
  },
  {
   "cell_type": "code",
   "execution_count": 12,
   "metadata": {},
   "outputs": [
    {
     "data": {
      "text/plain": [
       "nationality\n",
       "es ESP     325\n",
       "fr FRA     281\n",
       "it ITA     265\n",
       "de GER     199\n",
       "eng ENG    176\n",
       "br BRA      97\n",
       "ar ARG      91\n",
       "be BEL      47\n",
       "nl NED      47\n",
       "pt POR      41\n",
       "sn SEN      39\n",
       "ch SUI      34\n",
       "uy URU      30\n",
       "at AUT      24\n",
       "dk DEN      24\n",
       "ci CIV      24\n",
       "dz ALG      23\n",
       "co COL      22\n",
       "ma MAR      22\n",
       "se SWE      20\n",
       "Name: player, dtype: int64"
      ]
     },
     "execution_count": 12,
     "metadata": {},
     "output_type": "execute_result"
    }
   ],
   "source": [
    "# Determine which nationality has the most players included in the analysis\n",
    "top_20=nationality_count[:20]\n",
    "top_20"
   ]
  },
  {
   "cell_type": "code",
   "execution_count": 21,
   "metadata": {},
   "outputs": [
    {
     "data": {
      "image/png": "[encoded data removed]",
      "text/plain": [
       "<Figure size 800x800 with 1 Axes>"
      ]
     },
     "metadata": {},
     "output_type": "display_data"
    }
   ],
   "source": [
    "fig=plt.figure(figsize=(8,8))\n",
    "plt.bar(top_20.index,top_20.values)\n",
    "plt.xticks(rotation=90)\n",
    "plt.title(label='Total Number of Player Nationality', fontweight = 'bold')\n",
    "plt.xlabel('Nationality', fontweight = 'bold')\n",
    "plt.ylabel('Number of Players', fontweight = 'bold')\n",
    "plt.show()\n"
   ]
  },
  {
   "cell_type": "code",
   "execution_count": 14,
   "metadata": {},
   "outputs": [
    {
     "data": {
      "text/plain": [
       "nationality\n",
       "0           2686\n",
       "GPE          780\n",
       "GYF         2200\n",
       "al ALB      8502\n",
       "am ARM      3365\n",
       "           ...  \n",
       "uy URU     36249\n",
       "ve VEN     15802\n",
       "wal WAL    21677\n",
       "xk KVX      3089\n",
       "za RSA      5097\n",
       "Name: Unnamed: 0, Length: 99, dtype: int64"
      ]
     },
     "execution_count": 14,
     "metadata": {},
     "output_type": "execute_result"
    }
   ],
   "source": [
    "# Determine which nationality has the most players included in the analysis\n",
    "nationality = soccer_data.groupby(['nationality']).sum(numeric_only=True)['Unnamed: 0']\n",
    "nationality"
   ]
  },
  {
   "cell_type": "code",
   "execution_count": 15,
   "metadata": {},
   "outputs": [
    {
     "data": {
      "text/html": [
       "<div>\n",
       "<style scoped>\n",
       "    .dataframe tbody tr th:only-of-type {\n",
       "        vertical-align: middle;\n",
       "    }\n",
       "\n",
       "    .dataframe tbody tr th {\n",
       "        vertical-align: top;\n",
       "    }\n",
       "\n",
       "    .dataframe thead th {\n",
       "        text-align: right;\n",
       "    }\n",
       "</style>\n",
       "<table border=\"1\" class=\"dataframe\">\n",
       "  <thead>\n",
       "    <tr style=\"text-align: right;\">\n",
       "      <th></th>\n",
       "      <th>Unnamed: 0</th>\n",
       "      <th>player</th>\n",
       "      <th>nationality</th>\n",
       "      <th>position</th>\n",
       "      <th>squad</th>\n",
       "      <th>age</th>\n",
       "      <th>birth_year</th>\n",
       "      <th>value</th>\n",
       "      <th>height</th>\n",
       "      <th>position2</th>\n",
       "      <th>...</th>\n",
       "      <th>Pts/G</th>\n",
       "      <th>xG</th>\n",
       "      <th>xGA</th>\n",
       "      <th>xGDiff</th>\n",
       "      <th>xGDiff/90</th>\n",
       "      <th>Attendance</th>\n",
       "      <th>CL</th>\n",
       "      <th>WinCL</th>\n",
       "      <th>CLBestScorer</th>\n",
       "      <th>Season</th>\n",
       "    </tr>\n",
       "  </thead>\n",
       "  <tbody>\n",
       "    <tr>\n",
       "      <th>0</th>\n",
       "      <td>379</td>\n",
       "      <td>Burgui</td>\n",
       "      <td>es ESP</td>\n",
       "      <td>FW,MF</td>\n",
       "      <td>Alavés</td>\n",
       "      <td>23</td>\n",
       "      <td>1993</td>\n",
       "      <td>1800000</td>\n",
       "      <td>186</td>\n",
       "      <td>attack - Left Winger</td>\n",
       "      <td>...</td>\n",
       "      <td>1.24</td>\n",
       "      <td>39.0</td>\n",
       "      <td>53.2</td>\n",
       "      <td>-14.2</td>\n",
       "      <td>-0.37</td>\n",
       "      <td>16,819</td>\n",
       "      <td>0</td>\n",
       "      <td>0</td>\n",
       "      <td>0</td>\n",
       "      <td>201718#</td>\n",
       "    </tr>\n",
       "    <tr>\n",
       "      <th>1</th>\n",
       "      <td>2530</td>\n",
       "      <td>Raphaël Varane</td>\n",
       "      <td>fr FRA</td>\n",
       "      <td>DF</td>\n",
       "      <td>Real Madrid</td>\n",
       "      <td>24</td>\n",
       "      <td>1993</td>\n",
       "      <td>70000000</td>\n",
       "      <td>191</td>\n",
       "      <td>Defender - Centre-Back</td>\n",
       "      <td>...</td>\n",
       "      <td>2.00</td>\n",
       "      <td>83.3</td>\n",
       "      <td>45.4</td>\n",
       "      <td>37.9</td>\n",
       "      <td>1.00</td>\n",
       "      <td>66161</td>\n",
       "      <td>1</td>\n",
       "      <td>1</td>\n",
       "      <td>0</td>\n",
       "      <td>201718#</td>\n",
       "    </tr>\n",
       "    <tr>\n",
       "      <th>2</th>\n",
       "      <td>721</td>\n",
       "      <td>Rubén Duarte</td>\n",
       "      <td>es ESP</td>\n",
       "      <td>DF</td>\n",
       "      <td>Alavés</td>\n",
       "      <td>21</td>\n",
       "      <td>1995</td>\n",
       "      <td>2000000</td>\n",
       "      <td>179</td>\n",
       "      <td>Defender - Left-Back</td>\n",
       "      <td>...</td>\n",
       "      <td>1.24</td>\n",
       "      <td>39.0</td>\n",
       "      <td>53.2</td>\n",
       "      <td>-14.2</td>\n",
       "      <td>-0.37</td>\n",
       "      <td>16,819</td>\n",
       "      <td>0</td>\n",
       "      <td>0</td>\n",
       "      <td>0</td>\n",
       "      <td>201718#</td>\n",
       "    </tr>\n",
       "    <tr>\n",
       "      <th>3</th>\n",
       "      <td>2512</td>\n",
       "      <td>Samuel Umtiti</td>\n",
       "      <td>fr FRA</td>\n",
       "      <td>DF</td>\n",
       "      <td>Barcelona</td>\n",
       "      <td>23</td>\n",
       "      <td>1993</td>\n",
       "      <td>60000000</td>\n",
       "      <td>182</td>\n",
       "      <td>Defender - Centre-Back</td>\n",
       "      <td>...</td>\n",
       "      <td>2.45</td>\n",
       "      <td>78.3</td>\n",
       "      <td>41.1</td>\n",
       "      <td>37.2</td>\n",
       "      <td>0.98</td>\n",
       "      <td>66603</td>\n",
       "      <td>1</td>\n",
       "      <td>0</td>\n",
       "      <td>0</td>\n",
       "      <td>201718#</td>\n",
       "    </tr>\n",
       "    <tr>\n",
       "      <th>4</th>\n",
       "      <td>882</td>\n",
       "      <td>Manu García</td>\n",
       "      <td>es ESP</td>\n",
       "      <td>MF</td>\n",
       "      <td>Alavés</td>\n",
       "      <td>31</td>\n",
       "      <td>1986</td>\n",
       "      <td>1800000</td>\n",
       "      <td>183</td>\n",
       "      <td>midfield - Defensive Midfield</td>\n",
       "      <td>...</td>\n",
       "      <td>1.24</td>\n",
       "      <td>39.0</td>\n",
       "      <td>53.2</td>\n",
       "      <td>-14.2</td>\n",
       "      <td>-0.37</td>\n",
       "      <td>16,819</td>\n",
       "      <td>0</td>\n",
       "      <td>0</td>\n",
       "      <td>0</td>\n",
       "      <td>201718#</td>\n",
       "    </tr>\n",
       "    <tr>\n",
       "      <th>...</th>\n",
       "      <td>...</td>\n",
       "      <td>...</td>\n",
       "      <td>...</td>\n",
       "      <td>...</td>\n",
       "      <td>...</td>\n",
       "      <td>...</td>\n",
       "      <td>...</td>\n",
       "      <td>...</td>\n",
       "      <td>...</td>\n",
       "      <td>...</td>\n",
       "      <td>...</td>\n",
       "      <td>...</td>\n",
       "      <td>...</td>\n",
       "      <td>...</td>\n",
       "      <td>...</td>\n",
       "      <td>...</td>\n",
       "      <td>...</td>\n",
       "      <td>...</td>\n",
       "      <td>...</td>\n",
       "      <td>...</td>\n",
       "      <td>...</td>\n",
       "    </tr>\n",
       "    <tr>\n",
       "      <th>2152</th>\n",
       "      <td>898</td>\n",
       "      <td>Theodor Gebre Selassie</td>\n",
       "      <td>cz CZE</td>\n",
       "      <td>DF,MF</td>\n",
       "      <td>Werder Bremen</td>\n",
       "      <td>30</td>\n",
       "      <td>1986</td>\n",
       "      <td>2500000</td>\n",
       "      <td>181</td>\n",
       "      <td>Defender - Right-Back</td>\n",
       "      <td>...</td>\n",
       "      <td>1.24</td>\n",
       "      <td>40.0</td>\n",
       "      <td>48.5</td>\n",
       "      <td>-8.5</td>\n",
       "      <td>-0.25</td>\n",
       "      <td>38726</td>\n",
       "      <td>0</td>\n",
       "      <td>0</td>\n",
       "      <td>0</td>\n",
       "      <td>201718#</td>\n",
       "    </tr>\n",
       "    <tr>\n",
       "      <th>2159</th>\n",
       "      <td>1707</td>\n",
       "      <td>Jérémy Morel</td>\n",
       "      <td>mg MAD</td>\n",
       "      <td>DF</td>\n",
       "      <td>Lyon</td>\n",
       "      <td>33</td>\n",
       "      <td>1984</td>\n",
       "      <td>25000</td>\n",
       "      <td>172</td>\n",
       "      <td>Defender - Centre-Back</td>\n",
       "      <td>...</td>\n",
       "      <td>2.05</td>\n",
       "      <td>66.9</td>\n",
       "      <td>39.7</td>\n",
       "      <td>27.2</td>\n",
       "      <td>0.72</td>\n",
       "      <td>46005</td>\n",
       "      <td>0</td>\n",
       "      <td>0</td>\n",
       "      <td>0</td>\n",
       "      <td>201718#</td>\n",
       "    </tr>\n",
       "    <tr>\n",
       "      <th>2160</th>\n",
       "      <td>2060</td>\n",
       "      <td>Milot Rashica</td>\n",
       "      <td>xk KVX</td>\n",
       "      <td>FW,MF</td>\n",
       "      <td>Werder Bremen</td>\n",
       "      <td>21</td>\n",
       "      <td>1996</td>\n",
       "      <td>7000000</td>\n",
       "      <td>177</td>\n",
       "      <td>attack - Left Winger</td>\n",
       "      <td>...</td>\n",
       "      <td>1.24</td>\n",
       "      <td>40.0</td>\n",
       "      <td>48.5</td>\n",
       "      <td>-8.5</td>\n",
       "      <td>-0.25</td>\n",
       "      <td>38726</td>\n",
       "      <td>0</td>\n",
       "      <td>0</td>\n",
       "      <td>0</td>\n",
       "      <td>201718#</td>\n",
       "    </tr>\n",
       "    <tr>\n",
       "      <th>2203</th>\n",
       "      <td>2544</td>\n",
       "      <td>Olivier Verdon</td>\n",
       "      <td>bj BEN</td>\n",
       "      <td>DF</td>\n",
       "      <td>Bordeaux</td>\n",
       "      <td>21</td>\n",
       "      <td>1995</td>\n",
       "      <td>15000</td>\n",
       "      <td>190</td>\n",
       "      <td>Defender - Centre-Back</td>\n",
       "      <td>...</td>\n",
       "      <td>1.45</td>\n",
       "      <td>52.6</td>\n",
       "      <td>40.7</td>\n",
       "      <td>11.9</td>\n",
       "      <td>0.31</td>\n",
       "      <td>26470</td>\n",
       "      <td>0</td>\n",
       "      <td>0</td>\n",
       "      <td>0</td>\n",
       "      <td>201718#</td>\n",
       "    </tr>\n",
       "    <tr>\n",
       "      <th>2223</th>\n",
       "      <td>2686</td>\n",
       "      <td>Christian Rutjens</td>\n",
       "      <td>0</td>\n",
       "      <td>0</td>\n",
       "      <td>Benevento</td>\n",
       "      <td>0</td>\n",
       "      <td>0</td>\n",
       "      <td>5000</td>\n",
       "      <td>185</td>\n",
       "      <td>Defender - Centre-Back</td>\n",
       "      <td>...</td>\n",
       "      <td>0.55</td>\n",
       "      <td>39.0</td>\n",
       "      <td>74.7</td>\n",
       "      <td>-35.7</td>\n",
       "      <td>-0.94</td>\n",
       "      <td>12132</td>\n",
       "      <td>0</td>\n",
       "      <td>0</td>\n",
       "      <td>0</td>\n",
       "      <td>201718#</td>\n",
       "    </tr>\n",
       "  </tbody>\n",
       "</table>\n",
       "<p>347 rows × 400 columns</p>\n",
       "</div>"
      ],
      "text/plain": [
       "      Unnamed: 0                  player nationality position          squad  \\\n",
       "0            379                  Burgui      es ESP    FW,MF         Alavés   \n",
       "1           2530          Raphaël Varane      fr FRA       DF    Real Madrid   \n",
       "2            721            Rubén Duarte      es ESP       DF         Alavés   \n",
       "3           2512           Samuel Umtiti      fr FRA       DF      Barcelona   \n",
       "4            882             Manu García      es ESP       MF         Alavés   \n",
       "...          ...                     ...         ...      ...            ...   \n",
       "2152         898  Theodor Gebre Selassie      cz CZE    DF,MF  Werder Bremen   \n",
       "2159        1707            Jérémy Morel      mg MAD       DF           Lyon   \n",
       "2160        2060           Milot Rashica      xk KVX    FW,MF  Werder Bremen   \n",
       "2203        2544          Olivier Verdon      bj BEN       DF       Bordeaux   \n",
       "2223        2686       Christian Rutjens           0        0      Benevento   \n",
       "\n",
       "      age  birth_year     value  height                      position2  ...  \\\n",
       "0      23        1993   1800000     186           attack - Left Winger  ...   \n",
       "1      24        1993  70000000     191         Defender - Centre-Back  ...   \n",
       "2      21        1995   2000000     179           Defender - Left-Back  ...   \n",
       "3      23        1993  60000000     182         Defender - Centre-Back  ...   \n",
       "4      31        1986   1800000     183  midfield - Defensive Midfield  ...   \n",
       "...   ...         ...       ...     ...                            ...  ...   \n",
       "2152   30        1986   2500000     181          Defender - Right-Back  ...   \n",
       "2159   33        1984     25000     172         Defender - Centre-Back  ...   \n",
       "2160   21        1996   7000000     177           attack - Left Winger  ...   \n",
       "2203   21        1995     15000     190         Defender - Centre-Back  ...   \n",
       "2223    0           0      5000     185         Defender - Centre-Back  ...   \n",
       "\n",
       "     Pts/G    xG   xGA  xGDiff  xGDiff/90  Attendance  CL  WinCL  \\\n",
       "0     1.24  39.0  53.2   -14.2      -0.37      16,819   0      0   \n",
       "1     2.00  83.3  45.4    37.9       1.00       66161   1      1   \n",
       "2     1.24  39.0  53.2   -14.2      -0.37      16,819   0      0   \n",
       "3     2.45  78.3  41.1    37.2       0.98       66603   1      0   \n",
       "4     1.24  39.0  53.2   -14.2      -0.37      16,819   0      0   \n",
       "...    ...   ...   ...     ...        ...         ...  ..    ...   \n",
       "2152  1.24  40.0  48.5    -8.5      -0.25       38726   0      0   \n",
       "2159  2.05  66.9  39.7    27.2       0.72       46005   0      0   \n",
       "2160  1.24  40.0  48.5    -8.5      -0.25       38726   0      0   \n",
       "2203  1.45  52.6  40.7    11.9       0.31       26470   0      0   \n",
       "2223  0.55  39.0  74.7   -35.7      -0.94       12132   0      0   \n",
       "\n",
       "      CLBestScorer   Season  \n",
       "0                0  201718#  \n",
       "1                0  201718#  \n",
       "2                0  201718#  \n",
       "3                0  201718#  \n",
       "4                0  201718#  \n",
       "...            ...      ...  \n",
       "2152             0  201718#  \n",
       "2159             0  201718#  \n",
       "2160             0  201718#  \n",
       "2203             0  201718#  \n",
       "2223             0  201718#  \n",
       "\n",
       "[347 rows x 400 columns]"
      ]
     },
     "execution_count": 15,
     "metadata": {},
     "output_type": "execute_result"
    }
   ],
   "source": [
    "# Determine which nationality has the most players included in the analysis\n",
    "nationality = soccer_data.groupby('nationality')\n",
    "nationality.head()\n"
   ]
  },
  {
   "cell_type": "code",
   "execution_count": 16,
   "metadata": {},
   "outputs": [
    {
     "data": {
      "text/plain": [
       "position\n",
       "DF       984331\n",
       "MF       591090\n",
       "FW       326750\n",
       "FW,MF    322182\n",
       "MF,FW    301127\n",
       "GK       265953\n",
       "DF,MF    162296\n",
       "MF,DF     63246\n",
       "DF,FW     18118\n",
       "FW,DF     10480\n",
       "GK,MF       121\n",
       "0             1\n",
       "Name: minutes, dtype: int64"
      ]
     },
     "execution_count": 16,
     "metadata": {},
     "output_type": "execute_result"
    }
   ],
   "source": [
    "# Determine which position plays the most minutes\n",
    "position_minutes = soccer_data.groupby([\"position\"])[\"minutes\"].sum()\n",
    "position_minutes=position_minutes.sort_values(ascending=False)\n",
    "position_minutes "
   ]
  },
  {
   "cell_type": "code",
   "execution_count": 20,
   "metadata": {},
   "outputs": [
    {
     "data": {
      "image/png": "[encoded data removed]",
      "text/plain": [
       "<Figure size 800x800 with 1 Axes>"
      ]
     },
     "metadata": {},
     "output_type": "display_data"
    }
   ],
   "source": [
    "\n",
    "fig=plt.figure(figsize=(8,8))\n",
    "plt.bar(position_minutes.index,position_minutes.values)\n",
    "plt.xticks(rotation=90)\n",
    "plt.title(label='Position and Minutes', fontweight = 'bold')\n",
    "plt.xlabel('Positon', fontweight = 'bold')\n",
    "plt.ylabel('Number of Minutes', fontweight = 'bold')\n",
    "plt.show()"
   ]
  },
  {
   "cell_type": "code",
   "execution_count": 84,
   "metadata": {},
   "outputs": [
    {
     "data": {
      "text/plain": [
       "age\n",
       "26    2497790000\n",
       "25    2435640000\n",
       "23    2254495000\n",
       "24    2227905000\n",
       "28    1739285000\n",
       "21    1555360000\n",
       "22    1521615000\n",
       "27    1429055000\n",
       "30    1335930000\n",
       "20    1324375000\n",
       "29    1101710000\n",
       "18     565757500\n",
       "19     483572500\n",
       "31     459215000\n",
       "32     263755000\n",
       "33      68420000\n",
       "17      66207500\n",
       "34      41895000\n",
       "16      23095000\n",
       "36       9390000\n",
       "15       6000000\n",
       "39       2020000\n",
       "35       1450000\n",
       "37       1070000\n",
       "38        205000\n",
       "40         25000\n",
       "0           5000\n",
       "Name: value, dtype: int64"
      ]
     },
     "execution_count": 84,
     "metadata": {},
     "output_type": "execute_result"
    }
   ],
   "source": [
    "# Determine which age has the highest value\n",
    "age_value = soccer_data.groupby([\"age\"])[\"value\"].sum()\n",
    "age_value=age_value.sort_values(ascending=False)\n",
    "age_value"
   ]
  },
  {
   "cell_type": "code",
   "execution_count": 19,
   "metadata": {},
   "outputs": [
    {
     "data": {
      "image/png": "[encoded data removed]",
      "text/plain": [
       "<Figure size 800x800 with 1 Axes>"
      ]
     },
     "metadata": {},
     "output_type": "display_data"
    }
   ],
   "source": [
    "fig=plt.figure(figsize=(8,8))\n",
    "plt.scatter(soccer_data[\"age\"], soccer_data[\"value\"])\n",
    "plt.xticks(rotation=90)\n",
    "plt.title(label='Player Age & Value', fontweight = 'bold')\n",
    "plt.xlabel('Age', fontweight = 'bold')\n",
    "plt.ylabel('Value', fontweight = 'bold')\n",
    "plt.show()"
   ]
  },
  {
   "cell_type": "code",
   "execution_count": null,
   "metadata": {},
   "outputs": [],
   "source": [
    "# Determine which position has the most red cards\n"
   ]
  },
  {
   "cell_type": "code",
   "execution_count": null,
   "metadata": {},
   "outputs": [],
   "source": [
    "# Determine which league has the most valuable players\n"
   ]
  },
  {
   "cell_type": "code",
   "execution_count": 78,
   "metadata": {},
   "outputs": [
    {
     "data": {
      "text/plain": [
       "25.416666666666668"
      ]
     },
     "execution_count": 78,
     "metadata": {},
     "output_type": "execute_result"
    }
   ],
   "source": [
    "# Determine the average player age\n",
    "average_age = soccer_data['age'].mean()\n",
    "average_age"
   ]
  },
  {
   "cell_type": "code",
   "execution_count": null,
   "metadata": {},
   "outputs": [],
   "source": [
    "# Determine which position has the tallest players"
   ]
  },
  {
   "cell_type": "code",
   "execution_count": null,
   "metadata": {},
   "outputs": [],
   "source": [
    "# How does the league in which the player plays affect their value, goals scored, and minutes played?"
   ]
  },
  {
   "cell_type": "code",
   "execution_count": null,
   "metadata": {},
   "outputs": [],
   "source": [
    "# How does the number of tackles and tackles won relate to the player's position?"
   ]
  },
  {
   "cell_type": "code",
   "execution_count": null,
   "metadata": {},
   "outputs": [],
   "source": [
    "# What is the correlation between xG and actual goals scored for the players in the squad?"
   ]
  },
  {
   "cell_type": "code",
   "execution_count": null,
   "metadata": {},
   "outputs": [],
   "source": [
    "# What is the distribution of goals per 90 minutes among players in different positions?"
   ]
  }
 ],
 "metadata": {
  "kernelspec": {
   "display_name": "base",
   "language": "python",
   "name": "python3"
  },
  "language_info": {
   "codemirror_mode": {
    "name": "ipython",
    "version": 3
   },
   "file_extension": ".py",
   "mimetype": "text/x-python",
   "name": "python",
   "nbconvert_exporter": "python",
   "pygments_lexer": "ipython3",
   "version": "3.9.13"
  },
  "orig_nbformat": 4,
  "vscode": {
   "interpreter": {
    "hash": "eb882ed8c848f19c90fcc85379b3fbc89a66895657e7761325dfc0ccc5dd370c"
   }
  }
 },
 "nbformat": 4,
 "nbformat_minor": 2
}
